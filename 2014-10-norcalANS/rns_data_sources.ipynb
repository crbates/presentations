{
 "metadata": {
  "name": "",
  "signature": "sha256:15cad3fc5dbe6b80d63cf7023fd37c22b31209b0135164c7133b552adcbce506"
 },
 "nbformat": 3,
 "nbformat_minor": 0,
 "worksheets": [
  {
   "cells": [
    {
     "cell_type": "markdown",
     "metadata": {},
     "source": [
      "# Data Sources\n",
      "\n",
      "Below are examples of how to grab cross sections from the EAF \n",
      "and simple data sources and re-discretize them.\n",
      "\n",
      "The API reference for xs.data_source can be found here: http://pyne.io/latest/pyapi/xs/data_source.html\n",
      "\n",
      "We also use bins, which can be found here: http://pyne.io/latest/pyapi/bins.html"
     ]
    },
    {
     "cell_type": "code",
     "collapsed": false,
     "input": [
      "#Import all of the libraries that we'll need,\n",
      "from pyne.xs.data_source import *\n",
      "from pyne.bins import stair_step\n",
      "import matplotlib.pyplot as plt\n",
      "import matplotlib\n",
      "import numpy as np\n",
      "\n",
      "# set up some plotting font information,\n",
      "matplotlib.rc('font', family='serif', size=14)\n",
      "%matplotlib inline\n",
      "\n",
      "# get an energy grid that has 11 log-spaced increments between 1e1 and 1e-7 \n",
      "dst_e_g = np.logspace(1, -7, 11)\n",
      "print dst_e_g"
     ],
     "language": "python",
     "metadata": {},
     "outputs": [
      {
       "output_type": "stream",
       "stream": "stderr",
       "text": [
        "Vendor:  Continuum Analytics, Inc.\n",
        "Package: mkl\n",
        "Message: trial mode expires in 30 days\n",
        "/home/slayer/.local/lib/python2.7/site-packages/pyne/xs/data_source.py:20: VnVWarning: pyne.nucname is not yet V&V compliant.\n",
        "  from pyne import nucname\n"
       ]
      },
      {
       "output_type": "stream",
       "stream": "stderr",
       "text": [
        "/home/slayer/.local/lib/python2.7/site-packages/pyne/openmc.py:18: VnVWarning: pyne.openmc is not yet V&V compliant.\n",
        "  warn(__name__ + \" is not yet V&V compliant.\", VnVWarning)\n",
        "/home/slayer/.local/lib/python2.7/site-packages/pyne/xs/data_source.py:22: VnVWarning: pyne.rxname is not yet V&V compliant.\n",
        "  from pyne import rxname\n",
        "/home/slayer/.local/lib/python2.7/site-packages/pyne/rxdata.py:5: VnVWarning: pyne.rxdata is not yet V&V compliant.\n",
        "  warn(__name__ + \" is not yet V&V compliant.\", VnVWarning)\n"
       ]
      },
      {
       "output_type": "stream",
       "stream": "stdout",
       "text": [
        "[  1.00000000e+01   1.58489319e+00   2.51188643e-01   3.98107171e-02\n",
        "   6.30957344e-03   1.00000000e-03   1.58489319e-04   2.51188643e-05\n",
        "   3.98107171e-06   6.30957344e-07   1.00000000e-07]\n"
       ]
      },
      {
       "output_type": "stream",
       "stream": "stderr",
       "text": [
        "/home/slayer/.local/lib/python2.7/site-packages/pyne/xs/data_source.py:23: VnVWarning: pyne.endf is not yet V&V compliant.\n",
        "  from pyne import endf\n",
        "/home/slayer/.local/lib/python2.7/site-packages/pyne/xs/data_source.py:24: VnVWarning: pyne.bins is not yet V&V compliant.\n",
        "  from pyne import bins\n",
        "/home/slayer/.local/lib/python2.7/site-packages/pyne/xs/data_source.py:25: VnVWarning: pyne.ace is not yet V&V compliant.\n",
        "  from pyne import ace\n",
        "/home/slayer/.local/lib/python2.7/site-packages/pyne/xs/data_source.py:26: VnVWarning: pyne.data is not yet V&V compliant.\n",
        "  from pyne.data import MeV_per_K\n",
        "/home/slayer/.local/lib/python2.7/site-packages/pyne/xs/data_source.py:27: VnVWarning: pyne.xs.models is not yet V&V compliant.\n",
        "  from pyne.xs.models import partial_energy_matrix, group_collapse\n",
        "/home/slayer/.local/lib/python2.7/site-packages/pyne/xs/data_source.py:29: VnVWarning: pyne.xs.data_source is not yet V&V compliant.\n",
        "  warn(__name__ + \" is not yet V&V compliant.\", VnVWarning)\n"
       ]
      }
     ],
     "prompt_number": 1
    },
    {
     "cell_type": "markdown",
     "metadata": {},
     "source": [
      "## EAF Data Source\n",
      "\n",
      "Get an EAFDataSource object (European Activation File cross section data source) and use it to get U-235 gamma reaction data."
     ]
    },
    {
     "cell_type": "code",
     "collapsed": false,
     "input": [
      "eds = EAFDataSource()\n",
      "rx = eds.reaction('U235', 'gamma')\n",
      "print rx"
     ],
     "language": "python",
     "metadata": {},
     "outputs": [
      {
       "output_type": "stream",
       "stream": "stdout",
       "text": [
        "[  3.40601000e-04   4.13527000e-04   4.52339000e-04   5.35260000e-04\n",
        "   7.79656000e-04   9.12824000e-04   1.05027000e-03   1.20057000e-03\n",
        "   1.33202000e-03   1.46200000e-03   1.60595000e-03   1.67206000e-03\n",
        "   1.76457000e-03   1.90211000e-03   2.03703000e-03   2.12614000e-03\n",
        "   2.15500000e-03   2.15923000e-03   2.17015000e-03   2.19708000e-03\n",
        "   2.24992000e-03   2.34009000e-03   2.47761000e-03   2.65621000e-03\n",
        "   2.80624000e-03   2.93429000e-03   3.18937000e-03   3.54963000e-03\n",
        "   3.99022000e-03   4.53866000e-03   5.21324000e-03   6.05776000e-03\n",
        "   7.06523000e-03   9.26177000e-03   1.27481000e-02   1.75162000e-02\n",
        "   2.23344000e-02   2.54474000e-02   2.88533000e-02   3.21686000e-02\n",
        "   3.59024000e-02   4.03127000e-02   4.31805000e-02   4.57085000e-02\n",
        "   4.57084000e-02   4.57112000e-02   4.87787000e-02   5.18315000e-02\n",
        "   5.62859000e-02   6.08943000e-02   6.55405000e-02   7.01358000e-02\n",
        "   7.41851000e-02   7.78783000e-02   8.13216000e-02   8.57563000e-02\n",
        "   8.88694000e-02   9.13386000e-02   9.53971000e-02   9.82263000e-02\n",
        "   1.00158000e-01   1.04962000e-01   1.08964000e-01   1.11877000e-01\n",
        "   1.14201000e-01   1.16384000e-01   1.19622000e-01   1.23457000e-01\n",
        "   1.27270000e-01   1.31726000e-01   1.35999000e-01   1.40273000e-01\n",
        "   1.44433000e-01   1.49346000e-01   1.55223000e-01   1.60902000e-01\n",
        "   1.69406000e-01   1.83582000e-01   1.92772000e-01   1.99107000e-01\n",
        "   2.07917000e-01   2.18980000e-01   2.24834000e-01   2.28807000e-01\n",
        "   2.28834000e-01   2.28851000e-01   2.32272000e-01   2.47665000e-01\n",
        "   2.60721000e-01   2.69491000e-01   2.77787000e-01   2.86525000e-01\n",
        "   2.95251000e-01   3.03786000e-01   3.12412000e-01   3.20788000e-01\n",
        "   3.28606000e-01   3.35689000e-01   3.45583000e-01   3.55016000e-01\n",
        "   3.64635000e-01   3.74740000e-01   3.83871000e-01   3.96374000e-01\n",
        "   4.20446000e-01   4.36756000e-01   4.49877000e-01   4.66706000e-01\n",
        "   4.97313000e-01   5.05926000e-01   5.32346000e-01   5.64841000e-01\n",
        "   5.50892000e-01   5.98351000e-01   6.17782000e-01   6.72248000e-01\n",
        "   6.96237000e-01   6.99460000e-01   7.01140000e-01   7.19296000e-01\n",
        "   7.33180000e-01   7.24884000e-01   7.69404000e-01   7.77250000e-01\n",
        "   8.32799000e-01   9.33925000e-01   1.01020000e+00   1.07310000e+00\n",
        "   1.21651000e+00   1.27445000e+00   1.30837000e+00   1.52976000e+00\n",
        "   1.62957000e+00   1.69051000e+00   1.74094000e+00   1.83856000e+00\n",
        "   1.95794000e+00   1.97871000e+00   2.60955000e+00   2.70133000e+00\n",
        "   2.82330000e+00   3.85308000e+00   4.03064000e+00   3.91338000e+00\n",
        "   4.59505000e+00   4.20223000e+00   5.61362000e+00   7.39548000e+00\n",
        "   8.33983000e+00   1.02707000e+01   1.11389000e+01   1.29232000e+01\n",
        "   8.42540000e+00   2.31086000e+01   1.80067000e+01   3.46571000e+01\n",
        "   1.94390000e+01   4.63772000e+01   1.76541000e+01   6.54149000e+01\n",
        "   3.43397000e+01   2.86602000e+01   2.89308000e+01   1.97519000e+01\n",
        "   1.58082000e+01   3.79141000e+00   1.33372000e+01   3.45039000e+00\n",
        "   1.42551000e+01   1.37460000e+01   7.05691000e+00   8.53781000e+00\n",
        "   1.27605000e+01   3.89028000e+01   9.05356000e+01]\n"
       ]
      }
     ],
     "prompt_number": 4
    },
    {
     "cell_type": "markdown",
     "metadata": {},
     "source": [
      "Next, set the energy group structure associated with our data to be the one we initially created.\n",
      "\n",
      "Then, discretize our data with using that group strucutre."
     ]
    },
    {
     "cell_type": "code",
     "collapsed": false,
     "input": [
      "eds.dst_group_struct = dst_e_g\n",
      "rx_redst = eds.discretize('U235', 'gamma')\n",
      "print rx_redst"
     ],
     "language": "python",
     "metadata": {},
     "outputs": [
      {
       "output_type": "stream",
       "stream": "stdout",
       "text": [
        "[  2.52625773e-02   1.50668227e-01   3.94173552e-01   8.29069757e-01\n",
        "   2.08402584e+00   5.56199103e+00   1.73480167e+01   3.37415300e+01\n",
        "   1.01908466e+01   2.15494273e+01]\n"
       ]
      }
     ],
     "prompt_number": 5
    },
    {
     "cell_type": "markdown",
     "metadata": {},
     "source": [
      "Let's plot the original data next to the collapsed data to see how they compare!"
     ]
    },
    {
     "cell_type": "code",
     "collapsed": false,
     "input": [
      "fig = plt.figure(figsize=(7,7))\n",
      "plt.loglog(*stair_step(eds.src_group_struct, rx), figure=fig, label='original')\n",
      "plt.loglog(*stair_step(eds.dst_group_struct, rx_redst), figure=fig, label='collapsed')\n",
      "plt.xlabel('E [MeV]')\n",
      "plt.ylabel('Cross Section [barns]')\n",
      "plt.legend(loc='upper right')"
     ],
     "language": "python",
     "metadata": {},
     "outputs": [
      {
       "metadata": {},
       "output_type": "pyout",
       "prompt_number": 6,
       "text": [
        "<matplotlib.legend.Legend at 0x7ff32c427390>"
       ]
      },
      {
       "metadata": {},
       "output_type": "display_data",
       "png": "[encoded data removed]",
       "text": [
        "<matplotlib.figure.Figure at 0x7ff2fecdb610>"
       ]
      }
     ],
     "prompt_number": 6
    },
    {
     "cell_type": "markdown",
     "metadata": {},
     "source": [
      "## Simple Data Source\n",
      "\n",
      "Now we'll get a SimpleDataSource object (Simple cross section data source based off of KAERI data) for U-233 and discretize it with the same energy structure."
     ]
    },
    {
     "cell_type": "code",
     "collapsed": false,
     "input": [
      "sds = SimpleDataSource(dst_group_struct=dst_e_g)\n",
      "print sds.exists\n",
      "rxs = sds.reaction('U233', 'absorption')\n",
      "rxs_redst = sds.discretize('U233', 'absorption')"
     ],
     "language": "python",
     "metadata": {},
     "outputs": [
      {
       "output_type": "stream",
       "stream": "stdout",
       "text": [
        "True\n"
       ]
      }
     ],
     "prompt_number": 7
    },
    {
     "cell_type": "code",
     "collapsed": false,
     "input": [
      "fig = plt.figure(figsize=(7,7))\n",
      "plt.loglog(sds.src_group_struct[:-1], rxs, figure=fig, label='original')\n",
      "plt.loglog(sds.dst_group_struct[:-1], rxs_redst, figure=fig, label='collapsed')\n",
      "plt.xlabel('E [MeV]')\n",
      "plt.ylabel('Cross Section [barns]')\n",
      "plt.legend(loc='upper right')"
     ],
     "language": "python",
     "metadata": {},
     "outputs": [
      {
       "metadata": {},
       "output_type": "pyout",
       "prompt_number": 8,
       "text": [
        "<matplotlib.legend.Legend at 0x7ff2faa53d50>"
       ]
      },
      {
       "metadata": {},
       "output_type": "display_data",
       "png": "[encoded data removed]",
       "text": [
        "<matplotlib.figure.Figure at 0x7ff2fecdb310>"
       ]
      }
     ],
     "prompt_number": 8
    },
    {
     "cell_type": "markdown",
     "metadata": {},
     "source": [
      "The data sources are caches, which means that subsequent requests for \n",
      "the same data are very fast! "
     ]
    },
    {
     "cell_type": "code",
     "collapsed": false,
     "input": [
      "%time sds.reaction('U238', 'fiss')\n",
      "print\n",
      "%time sds.reaction('U238', 'fission')\n",
      "print\n",
      "%time sds.reaction('U238', 'fiss')\n",
      "print"
     ],
     "language": "python",
     "metadata": {},
     "outputs": [
      {
       "output_type": "stream",
       "stream": "stdout",
       "text": [
        "CPU times: user 17.8 ms, sys: 4.05 ms, total: 21.9 ms\n",
        "Wall time: 21.1 ms\n",
        "\n",
        "CPU times: user 36 \u00b5s, sys: 1 \u00b5s, total: 37 \u00b5s\n",
        "Wall time: 40.1 \u00b5s\n",
        "\n",
        "CPU times: user 25 \u00b5s, sys: 0 ns, total: 25 \u00b5s\n",
        "Wall time: 28.1 \u00b5s\n",
        "\n"
       ]
      }
     ],
     "prompt_number": 14
    },
    {
     "cell_type": "code",
     "collapsed": false,
     "input": [],
     "language": "python",
     "metadata": {},
     "outputs": [],
     "prompt_number": 7
    }
   ],
   "metadata": {}
  }
 ]
}